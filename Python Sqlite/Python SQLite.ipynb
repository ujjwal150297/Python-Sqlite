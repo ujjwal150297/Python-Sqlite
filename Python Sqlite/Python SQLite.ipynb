{
 "cells": [
  {
   "cell_type": "code",
   "execution_count": 1,
   "id": "c788bb2e-d153-4a47-b720-5da9053178f6",
   "metadata": {},
   "outputs": [],
   "source": [
    "##Importing Library\n",
    "import sqlite3"
   ]
  },
  {
   "cell_type": "code",
   "execution_count": 3,
   "id": "3e3e8313-6482-42d2-a695-c8ca07924e54",
   "metadata": {},
   "outputs": [],
   "source": [
    "conn = sqlite3.connect('LibraryDatabase.db')"
   ]
  },
  {
   "cell_type": "code",
   "execution_count": 5,
   "id": "8736a346-edcd-4609-adee-ed5f387c87e3",
   "metadata": {},
   "outputs": [],
   "source": [
    "cursor = conn.cursor()"
   ]
  },
  {
   "cell_type": "code",
   "execution_count": 33,
   "id": "5f6dbd19-425c-4339-994d-c633e3e5399b",
   "metadata": {},
   "outputs": [],
   "source": [
    "###Creating Table Users\n",
    "cursor.execute(\"\"\"CREATE TABLE Users(\n",
    "    id INTEGER PRIMARY KEY NOT NULL,\n",
    "    full_name TEXT,\n",
    "    enabled TEXT CHECK (enabled IN ('f', 't')),\n",
    "    last_login DATETIME)\n",
    "\"\"\")\n",
    "\n",
    "conn.commit()"
   ]
  },
  {
   "cell_type": "code",
   "execution_count": 21,
   "id": "b9f948a3-114c-4f2d-a0b2-e07a4e285972",
   "metadata": {},
   "outputs": [],
   "source": [
    "###Creating Table Addresses\n",
    "cursor.execute(\"\"\"CREATE TABLE Addresses(\n",
    "    user_id INTEGER PRIMARY KEY NOT NULL,\n",
    "    street TEXT,\n",
    "    city TEXT,\n",
    "    state TEXT,\n",
    "    FOREIGN KEY (user_id) REFERENCES Users(id))\n",
    "\"\"\")\n",
    "\n",
    "conn.commit()"
   ]
  },
  {
   "cell_type": "code",
   "execution_count": 23,
   "id": "ed294f97-ff09-4929-b9e7-89f6f99232d8",
   "metadata": {},
   "outputs": [],
   "source": [
    "###Creating Table Books\n",
    "cursor.execute(\"\"\"CREATE TABLE Books(\n",
    "    id INTEGER PRIMARY KEY NOT NULL,\n",
    "    title TEXT,\n",
    "    author TEXT,\n",
    "    published_date DATETIME,\n",
    "    isbn CHAR(13) UNIQUE)\n",
    "\"\"\")\n",
    "\n",
    "conn.commit()"
   ]
  },
  {
   "cell_type": "code",
   "execution_count": 25,
   "id": "1dae8916-54d3-4664-a14b-1e5a0cfc2c48",
   "metadata": {},
   "outputs": [],
   "source": [
    "###Creating Table Checkouts\n",
    "cursor.execute(\"\"\"CREATE TABLE Checkouts(\n",
    "    id INTEGER PRIMARY KEY NOT NULL,\n",
    "    user_id INTEGER, book_id INTEGER,\n",
    "    checkout_date DATETIME,\n",
    "    return_date DATETIME,\n",
    "    FOREIGN KEY (user_id) REFERENCES Users(id),\n",
    "    FOREIGN KEY (book_id) REFERENCES Books(id))\n",
    "\"\"\")\n",
    "\n",
    "conn.commit()"
   ]
  },
  {
   "cell_type": "code",
   "execution_count": 27,
   "id": "5d71335a-0db9-4673-b509-88962d8258b2",
   "metadata": {},
   "outputs": [],
   "source": [
    "###Creating Table Reviews\n",
    "cursor.execute(\"\"\"CREATE TABLE Reviews(\n",
    "    id INTEGER PRIMARY KEY NOT NULL,\n",
    "    book_id INTEGER, reviewer_name TEXT,\n",
    "    content TEXT,\n",
    "    rating INTEGER CHECK (rating IN (1, 2, 3, 4, 5)),\n",
    "    published_date DATETIME,\n",
    "    FOREIGN KEY (book_id) REFERENCES Books(id));\n",
    "\"\"\")\n",
    "\n",
    "conn.commit()"
   ]
  },
  {
   "cell_type": "code",
   "execution_count": 35,
   "id": "4b4d9f67-632a-4f89-a413-8dd2497ac632",
   "metadata": {},
   "outputs": [],
   "source": [
    "###Inserting Data in Users table\n",
    "cursor.execute(\"\"\"Insert into Users (full_name, enabled, last_login) values ('John Smith','f', '2017-10-25 10:26:10')\"\"\")\n",
    "cursor.execute(\"\"\"Insert into Users (full_name, enabled, last_login) values ('Alice Walker','t', '2017-10-25 10:26:50')\"\"\")\n",
    "cursor.execute(\"\"\"Insert into Users (full_name, enabled, last_login) values ('Harry Potter','t','2017-10-25 10:26:50')\"\"\")\n",
    "cursor.execute(\"\"\"Insert into Users (full_name, enabled, last_login) values ('Jane Smith', 't','2017-10-25 19:36:43')\"\"\")\n",
    "\n",
    "conn.commit()"
   ]
  },
  {
   "cell_type": "code",
   "execution_count": 39,
   "id": "d32d61bb-583d-4f05-b863-c9651094d051",
   "metadata": {},
   "outputs": [
    {
     "name": "stdout",
     "output_type": "stream",
     "text": [
      "[(1, 'John Smith', 'f', '2017-10-25 10:26:10'), (2, 'Alice Walker', 't', '2017-10-25 10:26:50'), (3, 'Harry Potter', 't', '2017-10-25 10:26:50'), (4, 'Jane Smith', 't', '2017-10-25 19:36:43')]\n"
     ]
    }
   ],
   "source": [
    "###User Table\n",
    "cursor.execute(\"Select * from Users\")\n",
    "print(cursor.fetchall())"
   ]
  },
  {
   "cell_type": "code",
   "execution_count": 41,
   "id": "ee4b5ad8-5398-4d1f-b6cf-11a12ae186c6",
   "metadata": {},
   "outputs": [],
   "source": [
    "###Inserting Data in addresses\n",
    "cursor.execute(\"\"\"Insert into addresses (street, city, state) values ('1 Market Street', 'San Francisco', 'CA')\"\"\")\n",
    "cursor.execute(\"\"\"Insert into addresses (street, city, state) values ('2 Elm Street', 'San Francisco', 'CA')\"\"\")\n",
    "cursor.execute(\"\"\"Insert into addresses (street, city, state) values ('3 Main Street', 'Boston', 'MA')\"\"\")\n",
    "\n",
    "conn.commit()"
   ]
  },
  {
   "cell_type": "code",
   "execution_count": 43,
   "id": "75f0ad91-4ba2-4c9a-9610-6355699b04f5",
   "metadata": {},
   "outputs": [
    {
     "name": "stdout",
     "output_type": "stream",
     "text": [
      "[(1, '1 Market Street', 'San Francisco', 'CA'), (2, '2 Elm Street', 'San Francisco', 'CA'), (3, '3 Main Street', 'Boston', 'MA')]\n"
     ]
    }
   ],
   "source": [
    "###Addresses Table\n",
    "cursor.execute(\"Select * from addresses\")\n",
    "print(cursor.fetchall())"
   ]
  },
  {
   "cell_type": "code",
   "execution_count": 45,
   "id": "86c072bb-bdae-4787-9a08-8873e9667f1f",
   "metadata": {},
   "outputs": [],
   "source": [
    "###Inserting Data in books\n",
    "cursor.execute(\"\"\"Insert into books (title, author, published_date, isbn) values ('My First SQL book', 'Mary Parker', '2012-02-22 12:08:17','981483029127')\"\"\")\n",
    "cursor.execute(\"\"\"Insert into books (title, author, published_date, isbn) values ('My Second SQL book', 'John Mayer', '1972-07-03 09:22:45','857300923713')\"\"\")\n",
    "cursor.execute(\"\"\"Insert into books (title, author, published_date, isbn) values ('My Third SQL book', 'Cary Flint', '2015-10-18 14:05:42','523120967812')\"\"\")\n",
    "\n",
    "conn.commit()"
   ]
  },
  {
   "cell_type": "code",
   "execution_count": 47,
   "id": "2bb71d30-0227-44a7-9f70-55bd06b56478",
   "metadata": {},
   "outputs": [
    {
     "name": "stdout",
     "output_type": "stream",
     "text": [
      "[(1, 'My First SQL book', 'Mary Parker', '2012-02-22 12:08:17', '981483029127'), (2, 'My Second SQL book', 'John Mayer', '1972-07-03 09:22:45', '857300923713'), (3, 'My Third SQL book', 'Cary Flint', '2015-10-18 14:05:42', '523120967812')]\n"
     ]
    }
   ],
   "source": [
    "###Books Table\n",
    "cursor.execute(\"Select * from books\")\n",
    "print(cursor.fetchall())"
   ]
  },
  {
   "cell_type": "code",
   "execution_count": 49,
   "id": "be55db22-ef35-4491-9699-0b247ccb8e70",
   "metadata": {},
   "outputs": [],
   "source": [
    "###Inserting Data in reviews table\n",
    "cursor.execute(\"\"\"Insert into reviews (book_id, reviewer_name, content, rating, published_date) values (1,'John Smith', 'My first review',4,'2017-12-10')\"\"\")\n",
    "cursor.execute(\"\"\"Insert into reviews (book_id, reviewer_name, content, rating, published_date) values (2,'John Smith', 'My second review',4,'2017-10-13')\"\"\")\n",
    "cursor.execute(\"\"\"Insert into reviews (book_id, reviewer_name, content, rating, published_date) values (2,'Alice Walker', 'Another review',1,'2017-10-22')\"\"\")\n",
    "\n",
    "conn.commit()"
   ]
  },
  {
   "cell_type": "code",
   "execution_count": 169,
   "id": "d784e079-8ebc-41e8-9da2-15a8f3b0c902",
   "metadata": {},
   "outputs": [
    {
     "name": "stdout",
     "output_type": "stream",
     "text": [
      "[(1, 1, 'John Smith', 'My first review', 4, '2017-12-10'), (2, 2, 'John Smith', 'My second review', 4, '2017-10-13'), (3, 2, 'Alice Walker', 'Another review', 1, '2017-10-22')]\n"
     ]
    }
   ],
   "source": [
    "###Reviews Table\n",
    "cursor.execute(\"Select * from reviews\")\n",
    "print(cursor.fetchall())"
   ]
  },
  {
   "cell_type": "code",
   "execution_count": 95,
   "id": "5fdc5655-2f14-4d46-88fc-6940930a92bb",
   "metadata": {},
   "outputs": [],
   "source": [
    "###Trigger (Creating trigger, Creating Log Table that collects Timestamp whenever any checkout is made.)\n",
    "\n",
    "##Creating Log Table\n",
    "\n",
    "cursor.execute(\"\"\"CREATE TABLE Logs(\n",
    "    id INTEGER PRIMARY KEY AUTOINCREMENT,\n",
    "    checkout_id INTEGER,\n",
    "    LogTimestamp DATETIME DEFAULT CURRENT_TIMESTAMP,\n",
    "    FOREIGN KEY (checkout_id) REFERENCES Checkouts(id))\n",
    "\"\"\")\n",
    "\n",
    "###Creating Trigger\n",
    "\n",
    "cursor.execute(\"\"\"CREATE TRIGGER AfterCheckoutInsert AFTER INSERT \n",
    "    ON Checkouts \n",
    "        BEGIN INSERT INTO Logs (checkout_id) VALUES (New.id); \n",
    "    END;\n",
    "\"\"\")\n",
    "\n",
    "conn.commit()"
   ]
  },
  {
   "cell_type": "code",
   "execution_count": 125,
   "id": "f98605fa-4936-4a15-a6e6-36c546b1bd28",
   "metadata": {},
   "outputs": [
    {
     "name": "stdout",
     "output_type": "stream",
     "text": [
      "[(1, 1, 1, '2017-10-15 14:43:18', None), (2, 1, 2, '2017-10-05 16:22:44', '2017-10-13 13:05:12'), (3, 2, 2, '2017-10-15 11:11:24', '2017-10-22 17:42:10'), (4, 4, 3, '2017-10-15 09:27:07', None)]\n"
     ]
    }
   ],
   "source": [
    "###Inserting data in checkouts then checking Log table for timestamps for each checkout.\n",
    "\n",
    "cursor.execute(\"Insert into checkouts (user_id, book_id, checkout_date) values (1,1, '2017-10-15 14:43:18')\")\n",
    "cursor.execute(\"Insert into checkouts (user_id, book_id, checkout_date, return_date) values (1,2, '2017-10-05 16:22:44', '2017-10-13 13:05:12')\")\n",
    "cursor.execute(\"Insert into checkouts (user_id, book_id, checkout_date, return_date) values (2,2, '2017-10-15 11:11:24', '2017-10-22 17:42:10')\")\n",
    "cursor.execute(\"Insert into checkouts (user_id, book_id, checkout_date) values (4,3, '2017-10-15 09:27:07')\")\n",
    "\n",
    "conn.commit()\n",
    "\n",
    "###Checkout Table\n",
    "cursor.execute(\"Select * from checkouts\")\n",
    "print(cursor.fetchall())"
   ]
  },
  {
   "cell_type": "code",
   "execution_count": 127,
   "id": "35af455f-46b6-4103-9e43-da310173061b",
   "metadata": {},
   "outputs": [
    {
     "name": "stdout",
     "output_type": "stream",
     "text": [
      "[(1, 1, '2024-11-04 00:27:33'), (2, 2, '2024-11-04 00:27:33'), (3, 3, '2024-11-04 00:27:33'), (4, 4, '2024-11-04 00:27:33')]\n"
     ]
    }
   ],
   "source": [
    "###Checking Log Table for timestamps\n",
    "cursor.execute(\"Select * from Logs\")\n",
    "print(cursor.fetchall())\n"
   ]
  },
  {
   "cell_type": "code",
   "execution_count": 173,
   "id": "826f33bb-7ada-416d-9483-76c6e3f5043b",
   "metadata": {},
   "outputs": [],
   "source": [
    "##Closing Connection\n",
    "conn.close()"
   ]
  },
  {
   "cell_type": "code",
   "execution_count": 107,
   "id": "5b6ce5cb-5a96-4f1d-93e8-6f77e950ecf2",
   "metadata": {},
   "outputs": [],
   "source": [
    "#SQL Queries to Pandas using read_sql_query (Importing Pandas).\n",
    "\n",
    "import pandas as pd"
   ]
  },
  {
   "cell_type": "code",
   "execution_count": 111,
   "id": "87a7a762-f39b-4a07-870b-3b041769516c",
   "metadata": {},
   "outputs": [
    {
     "data": {
      "text/html": [
       "<div>\n",
       "<style scoped>\n",
       "    .dataframe tbody tr th:only-of-type {\n",
       "        vertical-align: middle;\n",
       "    }\n",
       "\n",
       "    .dataframe tbody tr th {\n",
       "        vertical-align: top;\n",
       "    }\n",
       "\n",
       "    .dataframe thead th {\n",
       "        text-align: right;\n",
       "    }\n",
       "</style>\n",
       "<table border=\"1\" class=\"dataframe\">\n",
       "  <thead>\n",
       "    <tr style=\"text-align: right;\">\n",
       "      <th></th>\n",
       "      <th>title</th>\n",
       "      <th>author</th>\n",
       "      <th>isbn</th>\n",
       "    </tr>\n",
       "  </thead>\n",
       "  <tbody>\n",
       "    <tr>\n",
       "      <th>0</th>\n",
       "      <td>My First SQL book</td>\n",
       "      <td>Mary Parker</td>\n",
       "      <td>981483029127</td>\n",
       "    </tr>\n",
       "    <tr>\n",
       "      <th>1</th>\n",
       "      <td>My Second SQL book</td>\n",
       "      <td>John Mayer</td>\n",
       "      <td>857300923713</td>\n",
       "    </tr>\n",
       "  </tbody>\n",
       "</table>\n",
       "</div>"
      ],
      "text/plain": [
       "                title       author          isbn\n",
       "0   My First SQL book  Mary Parker  981483029127\n",
       "1  My Second SQL book   John Mayer  857300923713"
      ]
     },
     "execution_count": 111,
     "metadata": {},
     "output_type": "execute_result"
    }
   ],
   "source": [
    "#1\n",
    "\n",
    "Query_1 = pd.read_sql_query(\"\"\"\n",
    "            SELECT Books.title, Books.author, Books.isbn \n",
    "            FROM Checkouts \n",
    "            JOIN Books ON Checkouts.book_id = Books.id \n",
    "            JOIN Users ON Checkouts.user_id = Users.id \n",
    "            WHERE Users.full_name = 'John Smith';\n",
    "            \"\"\",conn)\n",
    "\n",
    "Query_1"
   ]
  },
  {
   "cell_type": "code",
   "execution_count": 117,
   "id": "ca63ed2a-7ecc-434a-89ee-efdaadd86e7b",
   "metadata": {},
   "outputs": [
    {
     "data": {
      "text/html": [
       "<div>\n",
       "<style scoped>\n",
       "    .dataframe tbody tr th:only-of-type {\n",
       "        vertical-align: middle;\n",
       "    }\n",
       "\n",
       "    .dataframe tbody tr th {\n",
       "        vertical-align: top;\n",
       "    }\n",
       "\n",
       "    .dataframe thead th {\n",
       "        text-align: right;\n",
       "    }\n",
       "</style>\n",
       "<table border=\"1\" class=\"dataframe\">\n",
       "  <thead>\n",
       "    <tr style=\"text-align: right;\">\n",
       "      <th></th>\n",
       "      <th>reviewer_name</th>\n",
       "    </tr>\n",
       "  </thead>\n",
       "  <tbody>\n",
       "  </tbody>\n",
       "</table>\n",
       "</div>"
      ],
      "text/plain": [
       "Empty DataFrame\n",
       "Columns: [reviewer_name]\n",
       "Index: []"
      ]
     },
     "execution_count": 117,
     "metadata": {},
     "output_type": "execute_result"
    }
   ],
   "source": [
    "#2\n",
    "\n",
    "Query_2 = pd.read_sql_query(\"\"\"\n",
    "            SELECT Reviews.reviewer_name\n",
    "            FROM Reviews \n",
    "            JOIN Books ON Reviews.book_id = Books.id \n",
    "            WHERE Books.title = 'My Third SQL book';\n",
    "            \"\"\",conn)\n",
    "Query_2"
   ]
  },
  {
   "cell_type": "code",
   "execution_count": 129,
   "id": "22748ada-a28a-4d8d-8032-1a88120356b4",
   "metadata": {},
   "outputs": [
    {
     "data": {
      "text/html": [
       "<div>\n",
       "<style scoped>\n",
       "    .dataframe tbody tr th:only-of-type {\n",
       "        vertical-align: middle;\n",
       "    }\n",
       "\n",
       "    .dataframe tbody tr th {\n",
       "        vertical-align: top;\n",
       "    }\n",
       "\n",
       "    .dataframe thead th {\n",
       "        text-align: right;\n",
       "    }\n",
       "</style>\n",
       "<table border=\"1\" class=\"dataframe\">\n",
       "  <thead>\n",
       "    <tr style=\"text-align: right;\">\n",
       "      <th></th>\n",
       "      <th>full_name</th>\n",
       "    </tr>\n",
       "  </thead>\n",
       "  <tbody>\n",
       "    <tr>\n",
       "      <th>0</th>\n",
       "      <td>Harry Potter</td>\n",
       "    </tr>\n",
       "  </tbody>\n",
       "</table>\n",
       "</div>"
      ],
      "text/plain": [
       "      full_name\n",
       "0  Harry Potter"
      ]
     },
     "execution_count": 129,
     "metadata": {},
     "output_type": "execute_result"
    }
   ],
   "source": [
    "#3\n",
    "\n",
    "Query_3 = pd.read_sql_query(\"\"\"\n",
    "            SELECT Users.full_name \n",
    "            FROM Users \n",
    "            LEFT JOIN Checkouts ON Users.id = Checkouts.user_id \n",
    "            WHERE Checkouts.user_id IS NULL;\n",
    "            \"\"\",conn)\n",
    "Query_3"
   ]
  },
  {
   "cell_type": "code",
   "execution_count": 133,
   "id": "5565f793-a09c-4006-bd13-d46a7f5bf709",
   "metadata": {},
   "outputs": [],
   "source": [
    "###Queries Using Pandas Dataframes.\n",
    "\n",
    "###Creating Dataframes for required tables.\n",
    "books_df = pd.read_sql_query(\"SELECT * FROM Books;\", conn)\n",
    "users_df = pd.read_sql_query(\"SELECT * FROM Users;\", conn)\n",
    "checkouts_df = pd.read_sql_query(\"SELECT * FROM Checkouts;\", conn)\n",
    "reviews_df = pd.read_sql_query(\"SELECT * FROM Reviews;\", conn)"
   ]
  },
  {
   "cell_type": "code",
   "execution_count": 151,
   "id": "8c10956d-f7bc-43b7-8d31-bd7e7dd9aad6",
   "metadata": {},
   "outputs": [
    {
     "name": "stdout",
     "output_type": "stream",
     "text": [
      "Books checked out by John Smith:\n",
      "                title       author          isbn\n",
      "0   My First SQL book  Mary Parker  981483029127\n",
      "1  My Second SQL book   John Mayer  857300923713\n"
     ]
    }
   ],
   "source": [
    "#1\n",
    "\n",
    "Query_1_df = checkouts_df.merge(books_df, left_on=\"book_id\", right_on='id', how='inner') \\\n",
    "                     .merge(users_df, left_on=\"user_id\", right_on='id', how='inner')\n",
    "Query_1_df = Query_1_df[Query_1_df['full_name'] == 'John Smith'][['title', 'author', 'isbn']]\n",
    "print(\"Books checked out by John Smith:\")\n",
    "print(Query_1_df)"
   ]
  },
  {
   "cell_type": "code",
   "execution_count": 153,
   "id": "f700827f-1cf9-4a2f-b31c-74ed982b8fae",
   "metadata": {},
   "outputs": [
    {
     "name": "stdout",
     "output_type": "stream",
     "text": [
      "All Reviewers for the book 'My Third SQL book':\n",
      "Empty DataFrame\n",
      "Columns: [reviewer_name]\n",
      "Index: []\n"
     ]
    }
   ],
   "source": [
    "#2\n",
    "\n",
    "Query_2_df = reviews_df.merge(books_df, left_on=\"book_id\", right_on='id', how='inner')\n",
    "Query_2_df = Query_2_df[Query_2_df['title'] == 'My Third SQL book'][['reviewer_name']]\n",
    "print(\"All Reviewers for the book 'My Third SQL book':\")\n",
    "print(Query_2_df)"
   ]
  },
  {
   "cell_type": "code",
   "execution_count": 165,
   "id": "bd32293f-f451-4ee6-9d5b-310292e53721",
   "metadata": {},
   "outputs": [
    {
     "name": "stdout",
     "output_type": "stream",
     "text": [
      "Users with no books checked out are:\n",
      "      full_name\n",
      "3  Harry Potter\n"
     ]
    }
   ],
   "source": [
    "#3\n",
    "\n",
    "Query_3_df = users_df.merge(checkouts_df, left_on=\"id\", right_on='user_id', how=\"left\")\n",
    "Query_3_df = Query_3_df[Query_3_df['user_id'].isna()][['full_name']]\n",
    "print(\"Users with no books checked out are:\")\n",
    "print(Query_3_df)"
   ]
  },
  {
   "cell_type": "code",
   "execution_count": 167,
   "id": "dde726ac-b7a7-4152-86a4-3f22fa97b22c",
   "metadata": {},
   "outputs": [
    {
     "name": "stdout",
     "output_type": "stream",
     "text": [
      "[(1, 1, '2024-11-04 00:27:33'), (2, 2, '2024-11-04 00:27:33'), (3, 3, '2024-11-04 00:27:33'), (4, 4, '2024-11-04 00:27:33')]\n"
     ]
    }
   ],
   "source": [
    "###SQL query showing all records from Log Table\n",
    "cursor.execute(\"Select * from Logs\")\n",
    "print(cursor.fetchall())\n"
   ]
  },
  {
   "cell_type": "code",
   "execution_count": null,
   "id": "c3be5f7b-c7b2-4cd7-ab21-436b204a6643",
   "metadata": {},
   "outputs": [],
   "source": []
  }
 ],
 "metadata": {
  "kernelspec": {
   "display_name": "Python 3 (ipykernel)",
   "language": "python",
   "name": "python3"
  },
  "language_info": {
   "codemirror_mode": {
    "name": "ipython",
    "version": 3
   },
   "file_extension": ".py",
   "mimetype": "text/x-python",
   "name": "python",
   "nbconvert_exporter": "python",
   "pygments_lexer": "ipython3",
   "version": "3.12.4"
  }
 },
 "nbformat": 4,
 "nbformat_minor": 5
}
